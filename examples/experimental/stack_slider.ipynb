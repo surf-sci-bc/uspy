{
 "cells": [
  {
   "cell_type": "code",
   "execution_count": 1,
   "metadata": {},
   "outputs": [],
   "source": [
    "%matplotlib widget\n",
    "import ipywidgets as widgets\n",
    "import matplotlib.pyplot as plt, mpld3\n",
    "import matplotlib as mpl\n",
    "import numpy as np\n",
    "mpld3.enable_notebook()\n",
    "import uspy.leem.plotting as leem\n",
    "from uspy.leem.base import LEEMImg, LEEMStack\n",
    "from uspy.leem.utility import try_load_img\n",
    "import threading\n"
   ]
  },
  {
   "cell_type": "code",
   "execution_count": 2,
   "metadata": {},
   "outputs": [
    {
     "data": {
      "application/vnd.jupyter.widget-view+json": {
       "model_id": "6a1dd034ba1d4c17ae40da3ba729c800",
       "version_major": 2,
       "version_minor": 0
      },
      "text/plain": [
       "Canvas(toolbar=Toolbar(toolitems=[('Home', 'Reset original view', 'home', 'home'), ('Back', 'Back to previous …"
      ]
     },
     "metadata": {},
     "output_type": "display_data"
    },
    {
     "data": {
      "application/vnd.jupyter.widget-view+json": {
       "model_id": "0177ce1d4a5642aa9ac0c659c9c5978f",
       "version_major": 2,
       "version_minor": 0
      },
      "text/plain": [
       "interactive(children=(IntSlider(value=0, description='index', max=185), Output()), _dom_classes=('widget-inter…"
      ]
     },
     "metadata": {},
     "output_type": "display_data"
    },
    {
     "data": {
      "text/plain": [
       "<__main__.StackSlider at 0x7fb9c56adfd0>"
      ]
     },
     "execution_count": 2,
     "metadata": {},
     "output_type": "execute_result"
    }
   ],
   "source": [
    "stack = LEEMStack(\"media/test_stack.lstk\")\n",
    "\n",
    "\n",
    "class StackSlider():\n",
    "    def __init__(self, stack):\n",
    "        _, ax = plt.subplots(figsize=(3, 3))\n",
    "        plt.gcf().canvas.layout.width = '100%'\n",
    "        plt.gcf().canvas.layout.height = '100%'\n",
    "        fields = (None, None, \"energy\", None)\n",
    "        pos = {\n",
    "            0: (\"top\", \"left\", 0.01, 1),\n",
    "            1: (\"top\", \"right\", 1, 1),\n",
    "            2: (\"bottom\", \"left\", 0.01, 0.01),\n",
    "            3: (\"bottom\", \"right\", 1, 0.01),\n",
    "        }\n",
    "\n",
    "        leem.plot_img(stack[0], ax=ax, fields=fields)\n",
    "        \n",
    "        def remove_text(texts):\n",
    "            for t in texts:\n",
    "                t.remove()\n",
    "                \n",
    "        @widgets.interact(index=(0, len(stack) - 1, 1))\n",
    "        def update(index=0):\n",
    "            img = stack[index]\n",
    "            plt_img = ax.get_images()[0]\n",
    "            plt_img.set_data(img.data)\n",
    "\n",
    "            if len(ax.texts) > 0: # Update text, when text ist already present. Works better than removing text and creating again\n",
    "                for text in ax.texts:\n",
    "                    if text.get_ha() == \"left\" and text.get_va() == \"top\":\n",
    "                        text.set_text(img.get_field_string(fields[0]))\n",
    "                    elif text.get_ha() == \"right\" and text.get_va() == \"top\":\n",
    "                        text.set_text(img.get_field_string(fields[1]))\n",
    "                    elif text.get_ha() == \"left\" and text.get_va() == \"bottom\":\n",
    "                        text.set_text(img.get_field_string(fields[2]))\n",
    "                    elif text.get_ha() == \"bottom\" and text.get_va() == \"right\":\n",
    "                        text.set_text(img.get_field_string(fields[3]))\n",
    "            else:\n",
    "                for i, field in enumerate(fields):\n",
    "                    if field is None:\n",
    "                        continue\n",
    "                    label = img.get_field_string(field)\n",
    "\n",
    "                    ax.text(\n",
    "                        pos[i][2],\n",
    "                        pos[i][3],\n",
    "                        label,\n",
    "                        verticalalignment=pos[i][0],\n",
    "                        horizontalalignment=pos[i][1],\n",
    "                        transform=ax.transAxes,\n",
    "                        color=\"yellow\",\n",
    "                        fontsize=14,\n",
    "                    )\n",
    "                    \n",
    "StackSlider(stack)\n",
    "\n",
    "#    leem.plot_img(stack[index], ax=ax)\n",
    "\n",
    "#def f(x):\n",
    "#    seconds = time.time()\n",
    "#    leem.plot_img(stack[x], figsize=(10,10))\n",
    "    #IPython.display.display(PIL.Image.fromarray((stack[x].data- np.amin(stack[x].data))\n",
    "    #        / (np.amax(stack[x].data) - np.amin(stack[x].data))*255).convert(\"L\"))\n",
    "#    return time.time()-seconds\n",
    "    #return x"
   ]
  },
  {
   "cell_type": "code",
   "execution_count": 3,
   "metadata": {},
   "outputs": [],
   "source": [
    "#IPython.display.display(PIL.Image.fromarray((stack[180].data- np.amin(stack[180].data))\n",
    "#            / (np.amax(stack[180].data) - np.amin(stack[180].data))*255).convert(\"L\"))"
   ]
  },
  {
   "cell_type": "code",
   "execution_count": null,
   "metadata": {},
   "outputs": [],
   "source": []
  },
  {
   "cell_type": "code",
   "execution_count": null,
   "metadata": {},
   "outputs": [],
   "source": []
  }
 ],
 "metadata": {
  "kernelspec": {
   "display_name": "Python 3",
   "language": "python",
   "name": "python3"
  },
  "language_info": {
   "codemirror_mode": {
    "name": "ipython",
    "version": 3
   },
   "file_extension": ".py",
   "mimetype": "text/x-python",
   "name": "python",
   "nbconvert_exporter": "python",
   "pygments_lexer": "ipython3",
   "version": "3.8.5"
  }
 },
 "nbformat": 4,
 "nbformat_minor": 4
}
