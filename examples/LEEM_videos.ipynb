{
 "cells": [
  {
   "cell_type": "markdown",
   "metadata": {},
   "source": [
    "# LEEM - How to make videos"
   ]
  },
  {
   "cell_type": "markdown",
   "metadata": {},
   "source": [
    "This is quite simple and analogous to the `leem.plot_mov` function:"
   ]
  },
  {
   "cell_type": "code",
   "execution_count": 1,
   "metadata": {},
   "outputs": [],
   "source": [
    "from uspy import leem"
   ]
  },
  {
   "cell_type": "markdown",
   "metadata": {},
   "source": [
    "To save a video to `videos/test.mp4` and then show it, do this:"
   ]
  },
  {
   "cell_type": "code",
   "execution_count": 2,
   "metadata": {},
   "outputs": [
    {
     "name": "stdout",
     "output_type": "stream",
     "text": [
      "WARNING: The video is on auto contrast.\n"
     ]
    },
    {
     "data": {
      "text/html": [
       "<video src=\"videos/test.mp4\" controls  >\n",
       "      Your browser does not support the <code>video</code> element.\n",
       "    </video>"
      ],
      "text/plain": [
       "<IPython.core.display.Video object>"
      ]
     },
     "execution_count": 2,
     "metadata": {},
     "output_type": "execute_result"
    }
   ],
   "source": [
    "leem.make_video(\"../testdata/test_stack_IV_RuO2\", ofile=\"videos/test.mp4\")"
   ]
  },
  {
   "cell_type": "markdown",
   "metadata": {},
   "source": [
    "You can specify the metadata fields like with `plot_mov`. Remember to change the `ofile` output file name:"
   ]
  },
  {
   "cell_type": "code",
   "execution_count": 3,
   "metadata": {},
   "outputs": [
    {
     "name": "stdout",
     "output_type": "stream",
     "text": [
      "WARNING: The video is on auto contrast.\n"
     ]
    },
    {
     "data": {
      "text/html": [
       "<video src=\"videos/test2.mp4\" controls  >\n",
       "      Your browser does not support the <code>video</code> element.\n",
       "    </video>"
      ],
      "text/plain": [
       "<IPython.core.display.Video object>"
      ]
     },
     "execution_count": 3,
     "metadata": {},
     "output_type": "execute_result"
    }
   ],
   "source": [
    "leem.make_video(\"../testdata/test_stack_IV_RuO2\", ofile=\"videos/test2.mp4\", fields=(\"rel_time\", \"energy\", \"temperature\", \"pressure1\"))"
   ]
  },
  {
   "cell_type": "markdown",
   "metadata": {},
   "source": [
    "There are additional settings, like only using every n-th image (`skip=`), setting the fps (`fps=`, default is 24) and size (`scale=`, default is 0.5). Also, if the video is already finished and you don't want to make a new one every time you run the notebook, use `overwrite=False` and it will just use the old video."
   ]
  },
  {
   "cell_type": "code",
   "execution_count": 4,
   "metadata": {},
   "outputs": [
    {
     "name": "stdout",
     "output_type": "stream",
     "text": [
      "WARNING: The video is on auto contrast.\n"
     ]
    },
    {
     "data": {
      "text/html": [
       "<video src=\"videos/test3.mp4\" controls  >\n",
       "      Your browser does not support the <code>video</code> element.\n",
       "    </video>"
      ],
      "text/plain": [
       "<IPython.core.display.Video object>"
      ]
     },
     "execution_count": 4,
     "metadata": {},
     "output_type": "execute_result"
    }
   ],
   "source": [
    "leem.make_video(\"../testdata/test_stack_IV_RuO2\", ofile=\"videos/test3.mp4\", fields=\"rel_time\", fps=5, skip=2, scale=1/3)"
   ]
  },
  {
   "cell_type": "markdown",
   "metadata": {},
   "source": [
    "The contrast is by default set to autocontrast. If you need to see when the whole image gets darker, you can use:\n",
    "\n",
    "* \"maximum\": The maximal contrast over the whole stack is used\n",
    "* an integer i: The optimal contrast setting for the i-th image of the stack is used\n",
    "* a tuple of two integers (j, k): The values j and k are used as lower and upper intensity\n",
    "\n",
    "You can also use `log=True` for logarithmic images (usually good for LEED)"
   ]
  },
  {
   "cell_type": "code",
   "execution_count": 5,
   "metadata": {},
   "outputs": [
    {
     "data": {
      "text/html": [
       "<video src=\"videos/test4.mp4\" controls  >\n",
       "      Your browser does not support the <code>video</code> element.\n",
       "    </video>"
      ],
      "text/plain": [
       "<IPython.core.display.Video object>"
      ]
     },
     "execution_count": 5,
     "metadata": {},
     "output_type": "execute_result"
    }
   ],
   "source": [
    "leem.make_video(\"../testdata/test_stack_IV_RuO2\", ofile=\"videos/test4.mp4\", fields=\"rel_time\", contrast=\"maximum\")"
   ]
  }
 ],
 "metadata": {
  "kernelspec": {
   "display_name": "Python 3",
   "language": "python",
   "name": "python3"
  },
  "language_info": {
   "codemirror_mode": {
    "name": "ipython",
    "version": 3
   },
   "file_extension": ".py",
   "mimetype": "text/x-python",
   "name": "python",
   "nbconvert_exporter": "python",
   "pygments_lexer": "ipython3",
   "version": "3.8.6"
  }
 },
 "nbformat": 4,
 "nbformat_minor": 4
}
